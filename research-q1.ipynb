{
 "cells": [
  {
   "cell_type": "code",
   "execution_count": 1,
   "id": "72ad6ff1-d67f-4966-acb6-211cdf7848fd",
   "metadata": {},
   "outputs": [],
   "source": [
    "import matplotlib.pyplot as plt\n",
    "import numpy as np\n",
    "import pandas as pd\n",
    "import seaborn as sns\n",
    "import scipy.stats\n",
    "from scipy.stats import norm\n",
    "import statsmodels.stats as st\n",
    "\n",
    "import hashlib\n",
    "%matplotlib inline\n",
    "\n",
    "sns.set(style=\"dark\")\n",
    "plt.style.use(\"ggplot\")"
   ]
  },
  {
   "cell_type": "code",
   "execution_count": 4,
   "id": "d9d0411e-6687-41e9-84d0-cdd962181d25",
   "metadata": {},
   "outputs": [],
   "source": [
    "life = pd.read_csv('~/Downloads/Life Expectancy Data.csv') #2000 - 2015\n",
    "happy = pd.read_csv(\"~/Downloads/World Happiness Report.csv\") #between 2005 and 2022\n",
    "happy.fillna(0)"
   ]
  },
  {
   "cell_type": "markdown",
   "id": "8db7c55f-cb25-4106-8dba-e72c3ae1cf4f",
   "metadata": {},
   "source": [
    "## Research Question 1\n",
    "\n",
    "Notes: bonferroni is more conservative"
   ]
  },
  {
   "cell_type": "markdown",
   "id": "4ad5d855-817b-4746-9c1f-bc22c772d882",
   "metadata": {},
   "source": [
    "## T-Test"
   ]
  },
  {
   "cell_type": "code",
   "execution_count": 50,
   "id": "d2f3fef0-02aa-4791-9125-f7270b02df46",
   "metadata": {},
   "outputs": [],
   "source": [
    "# columns that we will be looking at for association with life_expectancy\n",
    "X = ['Log GDP Per Capita', 'Social Support', 'Freedom To Make Life Choices', 'Generosity', 'Perceptions Of Corruption', 'Confidence In National Government']"
   ]
  },
  {
   "cell_type": "code",
   "execution_count": null,
   "id": "10f18fb6-110e-45e8-916f-486bad516e86",
   "metadata": {},
   "outputs": [],
   "source": []
  },
  {
   "cell_type": "markdown",
   "id": "04d68b20-100c-4186-83b8-ad04f691c4a4",
   "metadata": {},
   "source": [
    "## Benjamini Yekutieli Correction"
   ]
  },
  {
   "cell_type": "code",
   "execution_count": 49,
   "id": "af04811e-df76-4a59-bb21-619fe4e534e8",
   "metadata": {},
   "outputs": [],
   "source": [
    "def benjamini_yekutieli(p_values, alpha):\n",
    "    \"\"\"\n",
    "    Returns decisions on p-values using Benjamini-Hochberg.\n",
    "    \n",
    "    Inputs:\n",
    "        p_values: array of p-values\n",
    "        alpha: desired FDR (FDR = E[# false positives / # positives])\n",
    "    \n",
    "    Returns:\n",
    "        decisions: binary array of same length as p-values, where `decisions[i]` is 1\n",
    "        if `p_values[i]` is deemed significant, and 0 otherwise\n",
    "    \"\"\"\n",
    "    n = len(p_values)\n",
    "    c = np.sum([1/i for i in np.arange(n)]) #is n the number of samples, or the num of p-values\n",
    "    assorted_p = sorted(p_values)\n",
    "    line = sorted([k*(alpha)/(n * c) for k in range(1, len(assorted_p) + 1)])\n",
    "    \n",
    "    chosen_p = 0 \n",
    "    for i in range(len(assorted_p)):\n",
    "        if line[i] > assorted_p[i]:\n",
    "            chosen_p = i\n",
    "    \n",
    "    decisions = np.array(assorted_p[chosen_p] >= p_values)\n",
    "    return decisions.astype(int)"
   ]
  },
  {
   "cell_type": "code",
   "execution_count": 37,
   "id": "749b1513-8b7b-473f-8cf3-b17baf6a129c",
   "metadata": {},
   "outputs": [],
   "source": [
    "# for now: alpha = 0.05 just because\n",
    "decision_dict = {}\n",
    "for key, values in p_dict.items():\n",
    "    decisions = benjamini_hochberg(values, 0.05)\n",
    "    decision_dict[key] = decisions"
   ]
  },
  {
   "cell_type": "markdown",
   "id": "f2ec1ffb-2d33-4927-8023-1ad5df402f99",
   "metadata": {},
   "source": [
    "# Bonferroni Correction"
   ]
  },
  {
   "cell_type": "code",
   "execution_count": 41,
   "id": "318c3f5f-042a-41d2-8a62-bc2c4c96d1bf",
   "metadata": {},
   "outputs": [],
   "source": [
    "def bonferroni(p_values, alpha_total):\n",
    "    \"\"\"\n",
    "    Returns decisions on p-values using the Bonferroni correction.\n",
    "    \n",
    "    Inputs:\n",
    "        p_values: array of p-values\n",
    "        alpha_total: desired family-wise error rate (FWER = P(at least one false discovery))\n",
    "    \n",
    "    Returns:\n",
    "        decisions: binary array of same length as p-values, where `decisions[i]` is 1\n",
    "        if `p_values[i]` is deemed significant, and 0 otherwise\n",
    "    \"\"\"\n",
    "    decisions = [(alpha_total)/len(p_values) >= p for p in p_values]\n",
    "    return decisions"
   ]
  },
  {
   "cell_type": "code",
   "execution_count": 42,
   "id": "cfda6556-64fb-47df-b105-0b0916be214b",
   "metadata": {},
   "outputs": [],
   "source": [
    "decision_dict = {}\n",
    "for key, values in p_dict.items():\n",
    "    decisions = bonferroni(values, 0.05)\n",
    "    decision_dict[key] = decisions"
   ]
  },
  {
   "cell_type": "code",
   "execution_count": null,
   "id": "c89d0737-754a-4fba-8123-21e3d56b48b2",
   "metadata": {},
   "outputs": [],
   "source": []
  }
 ],
 "metadata": {
  "kernelspec": {
   "display_name": "Python 3 (ipykernel)",
   "language": "python",
   "name": "python3"
  },
  "language_info": {
   "codemirror_mode": {
    "name": "ipython",
    "version": 3
   },
   "file_extension": ".py",
   "mimetype": "text/x-python",
   "name": "python",
   "nbconvert_exporter": "python",
   "pygments_lexer": "ipython3",
   "version": "3.9.12"
  }
 },
 "nbformat": 4,
 "nbformat_minor": 5
}
