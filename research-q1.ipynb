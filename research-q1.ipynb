{
 "cells": [
  {
   "cell_type": "code",
   "execution_count": 1,
   "id": "72ad6ff1-d67f-4966-acb6-211cdf7848fd",
   "metadata": {},
   "outputs": [],
   "source": [
    "import matplotlib.pyplot as plt\n",
    "import numpy as np\n",
    "import pandas as pd\n",
    "import seaborn as sns\n",
    "import scipy.stats\n",
    "from scipy.stats import norm\n",
    "\n",
    "import statsmodels.api as sm\n",
    "\n",
    "import hashlib\n",
    "%matplotlib inline\n",
    "\n",
    "sns.set(style=\"dark\")\n",
    "plt.style.use(\"ggplot\")"
   ]
  },
  {
   "cell_type": "code",
   "execution_count": 2,
   "id": "d9d0411e-6687-41e9-84d0-cdd962181d25",
   "metadata": {},
   "outputs": [],
   "source": [
    "pre_life = pd.read_csv('~/Downloads/Life Expectancy Data.csv') #2000 - 2015\n",
    "life = pre_life.dropna()\n",
    "pre_happy = pd.read_csv(\"~/Downloads/World Happiness Report.csv\") #between 2005 and 2022\n",
    "happy = pre_happy.dropna()"
   ]
  },
  {
   "cell_type": "markdown",
   "id": "4ad5d855-817b-4746-9c1f-bc22c772d882",
   "metadata": {},
   "source": [
    "## Getting P-Values from OLS Estimation"
   ]
  },
  {
   "cell_type": "code",
   "execution_count": 3,
   "id": "be75306b-6aa3-47e1-a75b-ec01e5377c55",
   "metadata": {},
   "outputs": [],
   "source": [
    "merged = life.merge(happy, how='inner', left_on='Country', right_on='Country Name')"
   ]
  },
  {
   "cell_type": "code",
   "execution_count": 4,
   "id": "d2f3fef0-02aa-4791-9125-f7270b02df46",
   "metadata": {},
   "outputs": [],
   "source": [
    "# columns that we will be looking at for association with life_expectancy\n",
    "X = ['Log GDP Per Capita', 'Social Support', 'Freedom To Make Life Choices', 'Generosity', 'Perceptions Of Corruption', 'Confidence In National Government']"
   ]
  },
  {
   "cell_type": "code",
   "execution_count": 5,
   "id": "a42c68fe-cc43-4d90-b30a-c93de0dfcd4d",
   "metadata": {},
   "outputs": [],
   "source": [
    "def fit_OLS_model(df, target_variable, explanatory_variables, intercept = False):\n",
    "    \"\"\"\n",
    "    Fits an OLS model from data.\n",
    "    \n",
    "    Inputs:\n",
    "        df: pandas DataFrame\n",
    "        target_variable: string, name of the target variable\n",
    "        explanatory_variables: list of strings, names of the explanatory variables\n",
    "        intercept: bool, if True add intercept term\n",
    "    Outputs:\n",
    "        fitted_model: model containing OLS regression results\n",
    "    \"\"\"\n",
    "    \n",
    "    target = df[target_variable]\n",
    "    inputs = df[explanatory_variables]\n",
    "    if intercept:\n",
    "        inputs = sm.add_constant(inputs)\n",
    "    \n",
    "    fitted_model = sm.OLS(target, inputs).fit()\n",
    "    return(fitted_model)\n",
    "\n",
    "def mean_squared_error(true_vals, predicted_vals):\n",
    "    \"\"\"\n",
    "    Return the mean squared error\n",
    "    \n",
    "    Inputs:\n",
    "        true_vals: array of true labels\n",
    "        predicted_vals: array labels predicted from the data\n",
    "    Output:\n",
    "        float, mean squared error of the predicted values\n",
    "    \"\"\"\n",
    "    return np.mean((true_vals - predicted_vals) ** 2)"
   ]
  },
  {
   "cell_type": "code",
   "execution_count": 6,
   "id": "10f18fb6-110e-45e8-916f-486bad516e86",
   "metadata": {},
   "outputs": [],
   "source": [
    "linear_model = fit_OLS_model(merged, 'Life expectancy ', ['Social Support', 'Freedom To Make Life Choices', 'Generosity', 'Perceptions Of Corruption', 'Confidence In National Government', 'Log GDP Per Capita'])\n",
    "pvalues = linear_model.pvalues.values"
   ]
  },
  {
   "cell_type": "code",
   "execution_count": 38,
   "id": "4d1cdba7-1cf2-4d98-898c-18c6b8d98fa2",
   "metadata": {},
   "outputs": [
    {
     "data": {
      "text/plain": [
       "83541402.99921514"
      ]
     },
     "execution_count": 38,
     "metadata": {},
     "output_type": "execute_result"
    }
   ],
   "source": [
    "linear_model.ess"
   ]
  },
  {
   "cell_type": "code",
   "execution_count": 7,
   "id": "e4e9f5f5-8911-49ae-a197-85e65c223683",
   "metadata": {},
   "outputs": [
    {
     "data": {
      "text/plain": [
       "array([5.34315263e-23, 6.07507730e-17, 3.52609983e-44, 1.15581942e-08,\n",
       "       2.52247751e-38, 0.00000000e+00])"
      ]
     },
     "execution_count": 7,
     "metadata": {},
     "output_type": "execute_result"
    }
   ],
   "source": [
    "pvalues"
   ]
  },
  {
   "cell_type": "markdown",
   "id": "04d68b20-100c-4186-83b8-ad04f691c4a4",
   "metadata": {},
   "source": [
    "## Benjamini Yekutieli Correction"
   ]
  },
  {
   "cell_type": "code",
   "execution_count": 8,
   "id": "af04811e-df76-4a59-bb21-619fe4e534e8",
   "metadata": {},
   "outputs": [],
   "source": [
    "def benjamini_yekutieli(p_values, alpha):\n",
    "    \"\"\"\n",
    "    Returns decisions on p-values using Benjamini-Hochberg.\n",
    "    \n",
    "    Inputs:\n",
    "        p_values: array of p-values\n",
    "        alpha: desired FDR (FDR = E[# false positives / # positives])\n",
    "    \n",
    "    Returns:\n",
    "        decisions: binary array of same length as p-values, where `decisions[i]` is 1\n",
    "        if `p_values[i]` is deemed significant, and 0 otherwise\n",
    "    \"\"\"\n",
    "    n = len(p_values)\n",
    "    c = np.sum([1/i for i in np.arange(1, n)]) #is n the number of samples, or the num of p-values\n",
    "    assorted_p = sorted(p_values)\n",
    "    line = sorted([k*(alpha)/(n * c) for k in range(1, len(assorted_p) + 1)])\n",
    "    \n",
    "    chosen_p = 0 \n",
    "    for i in range(len(assorted_p)):\n",
    "        if line[i] > assorted_p[i]:\n",
    "            chosen_p = i\n",
    "    \n",
    "    decisions = np.array(assorted_p[chosen_p] >= p_values)\n",
    "    return decisions"
   ]
  },
  {
   "cell_type": "code",
   "execution_count": 9,
   "id": "749b1513-8b7b-473f-8cf3-b17baf6a129c",
   "metadata": {},
   "outputs": [
    {
     "data": {
      "text/plain": [
       "array([ True,  True,  True,  True,  True,  True])"
      ]
     },
     "execution_count": 9,
     "metadata": {},
     "output_type": "execute_result"
    }
   ],
   "source": [
    "decision_by = benjamini_yekutieli(pvalues, 0.05)\n",
    "decision_by"
   ]
  },
  {
   "cell_type": "code",
   "execution_count": 10,
   "id": "046310e4-097f-489a-9a0c-1a48d2a6f641",
   "metadata": {},
   "outputs": [],
   "source": [
    "p_and_decisions = pd.DataFrame(data={'pvalue': pvalues, 'is_alternative': decision_by.astype(int)})"
   ]
  },
  {
   "cell_type": "code",
   "execution_count": 11,
   "id": "5032c42c-d398-48e0-b52d-b6cab74b4565",
   "metadata": {},
   "outputs": [
    {
     "data": {
      "text/plain": [
       "Text(0.5, 1.0, 'P-values and decisions using p-value threshold 0.05, with ground truth labels')"
      ]
     },
     "execution_count": 11,
     "metadata": {},
     "output_type": "execute_result"
    },
    {
     "data": {
      "image/png": "[encoded data removed]",
      "text/plain": [
       "<Figure size 432x288 with 1 Axes>"
      ]
     },
     "metadata": {},
     "output_type": "display_data"
    }
   ],
   "source": [
    "threshold = 0.05\n",
    "p_and_decisions['decision'] = 'TP'\n",
    "p_and_decisions.loc[(p_and_decisions['pvalue'] > threshold) & (~p_and_decisions['is_alternative']), 'decision'] = 'TN'\n",
    "p_and_decisions.loc[(p_and_decisions['pvalue'] < threshold) & (~p_and_decisions['is_alternative']), 'decision'] = 'FP'\n",
    "p_and_decisions.loc[(p_and_decisions['pvalue'] > threshold) & (p_and_decisions['is_alternative']), 'decision'] = 'FN'\n",
    "sns.stripplot(\n",
    "    data=p_and_decisions, x='pvalue', y='is_alternative', \n",
    "    alpha = 0.75, order = [0, 1], hue='decision', orient = \"h\",\n",
    ")\n",
    "plt.axvline(threshold)\n",
    "plt.title('P-values and decisions using p-value threshold {}, with ground truth labels'.format(threshold))"
   ]
  },
  {
   "cell_type": "markdown",
   "id": "f2ec1ffb-2d33-4927-8023-1ad5df402f99",
   "metadata": {},
   "source": [
    "# Bonferroni Correction"
   ]
  },
  {
   "cell_type": "code",
   "execution_count": 12,
   "id": "318c3f5f-042a-41d2-8a62-bc2c4c96d1bf",
   "metadata": {},
   "outputs": [],
   "source": [
    "def bonferroni(p_values, alpha_total):\n",
    "    \"\"\"\n",
    "    Returns decisions on p-values using the Bonferroni correction.\n",
    "    \n",
    "    Inputs:\n",
    "        p_values: array of p-values\n",
    "        alpha_total: desired family-wise error rate (FWER = P(at least one false discovery))\n",
    "    \n",
    "    Returns:\n",
    "        decisions: binary array of same length as p-values, where `decisions[i]` is 1\n",
    "        if `p_values[i]` is deemed significant, and 0 otherwise\n",
    "    \"\"\"\n",
    "    decisions = [(alpha_total)/len(p_values) >= p for p in p_values]\n",
    "    return np.array(decisions)"
   ]
  },
  {
   "cell_type": "code",
   "execution_count": 13,
   "id": "cfda6556-64fb-47df-b105-0b0916be214b",
   "metadata": {},
   "outputs": [
    {
     "data": {
      "text/plain": [
       "array([ True,  True,  True,  True,  True,  True])"
      ]
     },
     "execution_count": 13,
     "metadata": {},
     "output_type": "execute_result"
    }
   ],
   "source": [
    "decision_b = bonferroni(pvalues, 0.05)\n",
    "decision_b"
   ]
  },
  {
   "cell_type": "code",
   "execution_count": 14,
   "id": "e8ed1ad3-b104-4b66-b4a0-64a7e4aa0e87",
   "metadata": {},
   "outputs": [],
   "source": [
    "p_and_decisions = pd.DataFrame(data={'pvalue': pvalues, 'is_alternative': decision_b.astype(int)})"
   ]
  },
  {
   "cell_type": "code",
   "execution_count": 15,
   "id": "c3d25072-d299-4a2c-ba2f-3d2b39ddb702",
   "metadata": {},
   "outputs": [
    {
     "data": {
      "text/plain": [
       "Text(0.5, 1.0, 'P-values and decisions using p-value threshold 0.05, with ground truth labels')"
      ]
     },
     "execution_count": 15,
     "metadata": {},
     "output_type": "execute_result"
    },
    {
     "data": {
      "image/png": "[encoded data removed]",
      "text/plain": [
       "<Figure size 432x288 with 1 Axes>"
      ]
     },
     "metadata": {},
     "output_type": "display_data"
    }
   ],
   "source": [
    "threshold = 0.05\n",
    "p_and_decisions['decision'] = 'TP'\n",
    "p_and_decisions.loc[(p_and_decisions['pvalue'] > threshold) & (~p_and_decisions['is_alternative']), 'decision'] = 'TN'\n",
    "p_and_decisions.loc[(p_and_decisions['pvalue'] < threshold) & (~p_and_decisions['is_alternative']), 'decision'] = 'FP'\n",
    "p_and_decisions.loc[(p_and_decisions['pvalue'] > threshold) & (p_and_decisions['is_alternative']), 'decision'] = 'FN'\n",
    "sns.stripplot(\n",
    "    data=p_and_decisions, x='pvalue', y='is_alternative', \n",
    "    alpha = 0.75, order = [0, 1], hue='decision', orient = \"h\",\n",
    ")\n",
    "plt.axvline(threshold)\n",
    "plt.title('P-values and decisions using p-value threshold {}, with ground truth labels'.format(threshold))"
   ]
  },
  {
   "cell_type": "markdown",
   "id": "272b7df4-4f7e-450a-8d2e-608168680827",
   "metadata": {},
   "source": [
    "## Power\n",
    "\n",
    "Hypothesis we will calculate the power for: Is there an association between Freedom To Make Life Choices and life expectancy? "
   ]
  },
  {
   "cell_type": "code",
   "execution_count": 44,
   "id": "fd892bfe-10a6-4847-ac63-632dc39e932b",
   "metadata": {},
   "outputs": [
    {
     "data": {
      "text/plain": [
       "-523.6334247047739"
      ]
     },
     "execution_count": 44,
     "metadata": {},
     "output_type": "execute_result"
    }
   ],
   "source": [
    "effect_size = np.mean(merged['Freedom To Make Life Choices'])-np.mean(merged['Life expectancy '])/np.std(merged['Freedom To Make Life Choices'])\n",
    "effect_size"
   ]
  },
  {
   "cell_type": "code",
   "execution_count": 26,
   "id": "c1c95090-1566-4355-b855-c30d5e5a628d",
   "metadata": {},
   "outputs": [
    {
     "data": {
      "text/plain": [
       "Index(['Country', 'Year', 'Status', 'Life expectancy ', 'Adult Mortality',\n",
       "       'infant deaths', 'Alcohol', 'percentage expenditure', 'Hepatitis B',\n",
       "       'Measles ', ' BMI ', 'under-five deaths ', 'Polio', 'Total expenditure',\n",
       "       'Diphtheria ', ' HIV/AIDS', 'GDP', 'Population',\n",
       "       ' thinness  1-19 years', ' thinness 5-9 years',\n",
       "       'Income composition of resources', 'Schooling'],\n",
       "      dtype='object')"
      ]
     },
     "execution_count": 26,
     "metadata": {},
     "output_type": "execute_result"
    }
   ],
   "source": [
    "life.columns"
   ]
  },
  {
   "cell_type": "code",
   "execution_count": 45,
   "id": "c89d0737-754a-4fba-8123-21e3d56b48b2",
   "metadata": {},
   "outputs": [
    {
     "name": "stdout",
     "output_type": "stream",
     "text": [
      "Power: 1.00000\n"
     ]
    }
   ],
   "source": [
    "from statsmodels.stats.power import TTestPower\n",
    "\n",
    "power = TTestPower()\n",
    "test = power.power(nobs=len(merged), effect_size=effect_size, alpha = .05)\n",
    "print('Power: {:.5f}'.format(test))"
   ]
  },
  {
   "cell_type": "code",
   "execution_count": 46,
   "id": "65c06852-1515-459f-bb24-8046cb3dd9ce",
   "metadata": {},
   "outputs": [
    {
     "data": {
      "text/plain": [
       "83541402.99921514"
      ]
     },
     "execution_count": 46,
     "metadata": {},
     "output_type": "execute_result"
    }
   ],
   "source": [
    "linear_model.ess"
   ]
  },
  {
   "cell_type": "code",
   "execution_count": 24,
   "id": "bcb2fe6d-743a-4695-9736-f95e25903fde",
   "metadata": {},
   "outputs": [],
   "source": [
    "# There is a 100% chance of rejecting the null under the alternative"
   ]
  },
  {
   "cell_type": "code",
   "execution_count": null,
   "id": "d064c1a3-7227-4f03-a128-12f665d3c528",
   "metadata": {},
   "outputs": [],
   "source": [
    "https://resources.nu.edu/statsresources/eta "
   ]
  }
 ],
 "metadata": {
  "kernelspec": {
   "display_name": "Python 3 (ipykernel)",
   "language": "python",
   "name": "python3"
  },
  "language_info": {
   "codemirror_mode": {
    "name": "ipython",
    "version": 3
   },
   "file_extension": ".py",
   "mimetype": "text/x-python",
   "name": "python",
   "nbconvert_exporter": "python",
   "pygments_lexer": "ipython3",
   "version": "3.9.12"
  }
 },
 "nbformat": 4,
 "nbformat_minor": 5
}
